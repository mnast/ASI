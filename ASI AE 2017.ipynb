{
 "cells": [
  {
   "cell_type": "markdown",
   "metadata": {},
   "source": [
    "# ASI assessed exercise\n",
    "### *Naive Bayes Classifiera* and *Bayesian Linear Regression* for MNIST and CIFAR10 datasets\n",
    "7th June 2017"
   ]
  },
  {
   "cell_type": "markdown",
   "metadata": {},
   "source": [
    "### MNIST dataset\n",
    "------------------"
   ]
  },
  {
   "cell_type": "markdown",
   "metadata": {},
   "source": [
    "<div class=\"label label-success\">1</div> **Download the MNIST dataset and import it**"
   ]
  },
  {
   "cell_type": "code",
   "execution_count": 1,
   "metadata": {
    "collapsed": true
   },
   "outputs": [],
   "source": [
    "import numpy as np\n",
    "import pandas as pd\n",
    "import math\n",
    "import matplotlib.pyplot as plt\n",
    "%matplotlib inline\n",
    "import struct\n",
    "import pickle\n",
    "from time import time, strftime\n",
    "from numpy.linalg import pinv,inv"
   ]
  },
  {
   "cell_type": "code",
   "execution_count": 2,
   "metadata": {
    "collapsed": true
   },
   "outputs": [],
   "source": [
    "# parameters of the MNIST dataset\n",
    "num_classes = 10\n",
    "img_size = 28\n",
    "num_images = 60000\n",
    "num_test_images = 10000\n",
    "\n",
    "# file paths\n",
    "fname_img = r'D:\\ASI\\MNIST\\train-images.idx3-ubyte'\n",
    "fname_lbl = r'D:\\ASI\\MNIST\\train-labels.idx1-ubyte'\n",
    "fname_img_test = r'D:\\ASI\\MNIST\\t10k-images.idx3-ubyte'\n",
    "fname_lbl_test = r'D:\\ASI\\MNIST\\t10k-labels.idx1-ubyte'\n",
    "\n",
    "# load data (input two files: data and labels)\n",
    "def load_data(filename1, filename2):\n",
    "    with open(filename1, 'rb') as flbl:\n",
    "        magic, num = struct.unpack(\">II\", flbl.read(8))\n",
    "        lbl = np.fromfile(flbl, dtype=np.int8)\n",
    "    with open(filename2, 'rb') as fimg:\n",
    "        magic, num, rows, cols = struct.unpack(\">IIII\", fimg.read(16))\n",
    "        img = np.fromfile(fimg, dtype=np.uint8).reshape(len(lbl), rows * cols)\n",
    "    return img, lbl\n",
    "\n",
    "# show given image\n",
    "def show_image(image):\n",
    "    image = image.reshape((img_size,img_size))\n",
    "    fig = plt.figure()\n",
    "    ax = fig.add_subplot(1,1,1)\n",
    "    imgplot = ax.imshow(image, cmap=plt.cm.Greys)\n",
    "    imgplot.set_interpolation('nearest')\n",
    "    ax.xaxis.set_ticks_position('top')\n",
    "    ax.yaxis.set_ticks_position('left')\n",
    "    plt.show()"
   ]
  },
  {
   "cell_type": "code",
   "execution_count": 3,
   "metadata": {
    "collapsed": false
   },
   "outputs": [
    {
     "name": "stdout",
     "output_type": "stream",
     "text": [
      "(60000,) (60000, 784)\n",
      "(10000,) (10000, 784)\n"
     ]
    }
   ],
   "source": [
    "# load the MNIST train and test datasets\n",
    "img, lbl = load_data(fname_lbl, fname_img)\n",
    "img_test, lbl_test = load_data(fname_lbl_test, fname_img_test)\n",
    "\n",
    "print(lbl.shape, img.shape)\n",
    "print(lbl_test.shape, img_test.shape)"
   ]
  },
  {
   "cell_type": "markdown",
   "metadata": {},
   "source": [
    "<div class=\"label label-success\">2</div> **Comment on the distribution of class labels and the dimentionality of the input and how these may affect the analyses**"
   ]
  },
  {
   "cell_type": "code",
   "execution_count": 2,
   "metadata": {
    "collapsed": false
   },
   "outputs": [],
   "source": [
    "# compute the prior distribution of classes\n",
    "def compute_prior(lbl):\n",
    "    prior = []\n",
    "    for i in range(num_classes):\n",
    "        prior.append(sum([1 for x in lbl if x == i])/num_images)\n",
    "    return prior"
   ]
  },
  {
   "cell_type": "code",
   "execution_count": 5,
   "metadata": {
    "collapsed": false
   },
   "outputs": [
    {
     "data": {
      "image/png": "[encoded data removed]",
      "text/plain": [
       "<matplotlib.figure.Figure at 0x2da3d42c5f8>"
      ]
     },
     "metadata": {},
     "output_type": "display_data"
    }
   ],
   "source": [
    "prior = compute_prior(lbl)\n",
    "\n",
    "# plot histogram\n",
    "plt.hist(lbl, bins=10, normed=True, color='salmon')\n",
    "plt.title('Histogram MNIST dataset')\n",
    "plt.show()"
   ]
  },
  {
   "cell_type": "markdown",
   "metadata": {},
   "source": [
    "<div class=\"alert alert-warning\">\n",
    "The dimensionality of input is 28 x 28 = 784. Data is 784-dimensional vector of values from 0 to 255, so we will use the Gaussian likelihood.  \n",
    "We can assume that the distribution of classes is uniform. Thereby, the prior almost will not have any affect to the analysis.\n",
    "</div>"
   ]
  },
  {
   "cell_type": "markdown",
   "metadata": {},
   "source": [
    "<div class=\"label label-success\">3</div> **Classification**  \n",
    "\n",
    "**a) Implement the  `Naive Bayes classifier` **"
   ]
  },
  {
   "cell_type": "code",
   "execution_count": 3,
   "metadata": {
    "collapsed": true
   },
   "outputs": [],
   "source": [
    "# compute the mean and std of each pixel for each class\n",
    "def compute_mean_and_std(img):\n",
    "    mean = []\n",
    "    std = []\n",
    "    # compute mean and std for each class\n",
    "    for k in range(num_classes):\n",
    "        # chose images that belongs to class k\n",
    "        indices = np.argwhere(lbl == k)[:,0]\n",
    "        img_ = img[indices,:]\n",
    "        mean.append(np.mean(img_, axis=0))\n",
    "        std.append(np.std(img_, axis=0))\n",
    "    return mean, std\n",
    "\n",
    "\n",
    "# compute Gaussian loglikelihood for given image and class\n",
    "def compute_log_likelihood(image, k):\n",
    "    # take into account only pixel that have std not equal = 0\n",
    "    indices = np.argwhere(std[k] != 0)[:,0]\n",
    "    std_im = std[k][indices]\n",
    "    mean_im = mean[k][indices]\n",
    "    image = image[indices]\n",
    "    # compute loglikelihood\n",
    "    llh = (- np.log(std_im) - np.log(np.sqrt(2*math.pi)) - ((image-mean_im)**2/(2*std_im**2))).sum()\n",
    "    return llh\n",
    "\n",
    "\n",
    "# make predictons, compute the accuracy\n",
    "def predict(images, labels):\n",
    "    # count correct predictions\n",
    "    count = 0\n",
    "    N = len(images)\n",
    "    predictions = np.array([],int)\n",
    "    for i in range(N):\n",
    "        # compute posterior for all images for each class\n",
    "        posterior = [compute_log_likelihood(images[i,:], k) * prior[k] for k in range(num_classes)]\n",
    "        # make prediction (take the max posterior between 10 classes)\n",
    "        pred = posterior.index(max(posterior))\n",
    "        predictions = np.append(predictions, pred)\n",
    "        # count correct predictions\n",
    "        if pred == labels[i]:\n",
    "            count += 1\n",
    "    accuracy = count/N\n",
    "    return predictions, accuracy\n"
   ]
  },
  {
   "cell_type": "code",
   "execution_count": 8,
   "metadata": {
    "collapsed": false
   },
   "outputs": [
    {
     "name": "stdout",
     "output_type": "stream",
     "text": [
      "The test takes 0.148021 minutes\n",
      "The accuracy =  0.5807\n"
     ]
    }
   ],
   "source": [
    "# test classifier and get the accuracy\n",
    "mean, std = compute_mean_and_std(img)\n",
    "\n",
    "t0 = time()\n",
    "predictions, accuracy = predict(img_test,lbl_test)\n",
    "t1 = time()\n",
    "\n",
    "print('The test takes %f minutes' %((t1-t0)/60)) \n",
    "print('The accuracy = ',accuracy)"
   ]
  },
  {
   "cell_type": "markdown",
   "metadata": {},
   "source": [
    "<div class=\"alert alert-info\">\n",
    "The accuracy = 0.5807\n",
    "</div>"
   ]
  },
  {
   "cell_type": "markdown",
   "metadata": {},
   "source": [
    "**с) Describe any data pre-processing that you suggest for this data and your classifier**"
   ]
  },
  {
   "cell_type": "markdown",
   "metadata": {},
   "source": [
    "<div class=\"alert alert-warning\">\n",
    "The MNIST dataset provides greyscale images. We will convert greyscale images to black and white, so all pixel have 0 or 1 value and will calculate the likelihood based on the frequency of occurrence of each pixel (Bernoulli likelihood).\n",
    "</div>"
   ]
  },
  {
   "cell_type": "markdown",
   "metadata": {},
   "source": [
    "**d) Apply your classifier to the dataset. Make sure your optimization is clearly commented. Use classification accuracy and test log-likelihood as your figures of merit.**  "
   ]
  },
  {
   "cell_type": "code",
   "execution_count": 9,
   "metadata": {
    "collapsed": false
   },
   "outputs": [],
   "source": [
    "# convert grayscale image to black and white\n",
    "def convert_images(img_grayscale):\n",
    "    img_black_white = np.zeros((len(img_grayscale),img_size*img_size))\n",
    "    # find non-zero values in grayscale image\n",
    "    ind = np.nonzero(img_grayscale)\n",
    "    # put all non-zero values to 1\n",
    "    for i in range(len(ind[0])):\n",
    "        a = ind[0][i]\n",
    "        b = ind[1][i]\n",
    "        img_black_white[a][b] = 1\n",
    "    return img_black_white"
   ]
  },
  {
   "cell_type": "code",
   "execution_count": 10,
   "metadata": {
    "collapsed": false
   },
   "outputs": [
    {
     "data": {
      "image/png": "[encoded data removed]",
      "text/plain": [
       "<matplotlib.figure.Figure at 0x2da3d44d668>"
      ]
     },
     "metadata": {},
     "output_type": "display_data"
    },
    {
     "data": {
      "image/png": "[encoded data removed]",
      "text/plain": [
       "<matplotlib.figure.Figure at 0x2da3d44d128>"
      ]
     },
     "metadata": {},
     "output_type": "display_data"
    }
   ],
   "source": [
    "img_bw = convert_images(img)\n",
    "\n",
    "# show random image before and after conversion\n",
    "x = np.random.random_integers(0, high=num_images)\n",
    "show_image(img[x,:])\n",
    "show_image(img_bw[x,:])"
   ]
  },
  {
   "cell_type": "code",
   "execution_count": 11,
   "metadata": {
    "collapsed": true
   },
   "outputs": [],
   "source": [
    "# compute mean for black and white images\n",
    "mean,_ = compute_mean_and_std(img_bw)\n",
    "# convert test images \n",
    "img_bw_test = convert_images(img_test)"
   ]
  },
  {
   "cell_type": "code",
   "execution_count": 4,
   "metadata": {
    "collapsed": true
   },
   "outputs": [],
   "source": [
    "# rewrite the function that compute likelihood for given image and class\n",
    "# likelihood of each pixel(0/1) is frequency of occurrence of this pixel\n",
    "def compute_log_likelihood_2(image, k):\n",
    "    llh = (np.log(mean[k]*image+(1-mean[k])*(np.logical_not(image).astype(int)))).sum()\n",
    "    return llh\n",
    "\n",
    "# make prediction, compute and plot accuracy\n",
    "def predict_2(images, labels):\n",
    "    # count correct predictions\n",
    "    count = 0\n",
    "    N = len(images)\n",
    "    predictions = np.array([],int)\n",
    "    for i in range(N):\n",
    "        # compute posterior for all images for each class\n",
    "        posterior = [compute_log_likelihood_2(images[i,:], k) * prior[k] for k in range(num_classes)]\n",
    "        # make prediction (take the max posterior between 10 classes)\n",
    "        pred = posterior.index(max(posterior))\n",
    "        predictions = np.append(predictions, pred)\n",
    "        # count correct predictions\n",
    "        if pred == labels[i]:\n",
    "            count += 1\n",
    "    accuracy = count/N\n",
    "    return predictions, accuracy"
   ]
  },
  {
   "cell_type": "code",
   "execution_count": 13,
   "metadata": {
    "collapsed": false
   },
   "outputs": [
    {
     "name": "stdout",
     "output_type": "stream",
     "text": [
      "The test takes 0.080968 minutes\n",
      "The accuracy =  0.8268\n"
     ]
    }
   ],
   "source": [
    "# get the results\n",
    "t0 = time()\n",
    "predictions, accuracy = predict_2(img_bw_test,lbl_test)\n",
    "t1 = time()\n",
    "\n",
    "print('The test takes %f minutes' %((t1-t0)/60)) \n",
    "print('The accuracy = ',accuracy)"
   ]
  },
  {
   "cell_type": "markdown",
   "metadata": {},
   "source": [
    "<div class=\"alert alert-info\">\n",
    "The accuracy = 0.8268\n",
    "</div>"
   ]
  },
  {
   "cell_type": "markdown",
   "metadata": {},
   "source": [
    "**e) Display the confusion matrix on the test data.**"
   ]
  },
  {
   "cell_type": "code",
   "execution_count": 15,
   "metadata": {
    "collapsed": false
   },
   "outputs": [
    {
     "name": "stdout",
     "output_type": "stream",
     "text": [
      "Confusion matrix:\n",
      "\n",
      "     0     1    2    3    4    5    6    7    8    9\n",
      "0  848     0   18   11    2   11   15    2   11    9\n",
      "1    0  1038    5    5    1    1    5   16    5    7\n",
      "2    2    14  846   34    4    2   14   17   10    4\n",
      "3    1     2   12  701    1   31    0    1   22    4\n",
      "4    1     1   18    4  798   11   12   25   12   80\n",
      "5  110    44   34  173   36  810   72   14  144   32\n",
      "6   11     5   29    7   17   13  839    0    5    0\n",
      "7    1     0   10    9    2    0    0  811    4    9\n",
      "8    6    31   58   48   15    4    1   35  734   21\n",
      "9    0     0    2   18  106    9    0  107   27  843\n"
     ]
    }
   ],
   "source": [
    "from sklearn.metrics import confusion_matrix\n",
    "conf_matrix = confusion_matrix(predictions, lbl_test)\n",
    "\n",
    "# display confusion matrix: actual values are presented by rows, predicted by columns\n",
    "print('Confusion matrix:\\n')\n",
    "print(pd.DataFrame(conf_matrix))"
   ]
  },
  {
   "cell_type": "markdown",
   "metadata": {},
   "source": [
    "**f) Discuss the performance, compare them against a classifier that outputs random class labels and suggest in which performance could be improved.**"
   ]
  },
  {
   "cell_type": "markdown",
   "metadata": {},
   "source": [
    "<div class=\"alert alert-warning\">\n",
    "- `Naive Bayes classifier` is easy and fast to implement, it performs well and doesn't need a lot of train data.  \n",
    "- We observed that its performance is better with categorical features (Bernoulli likelihood) than with continuous (Gaussian likelihood). This is due to the fact that the normal distribution is a very strong assumption.  \n",
    "- For `Naive Bayes classifier` we assumed that the values of features are independent, that's not quite right, but `Naive Bayes classifier` performs well enough. We can suggest multivariate normal distribution and apply the `Bayes classifier`.  \n",
    "- A classifier that outputs random class labels will provide the accuracy about 0.10, and we obtained 0.83.\n",
    "</div>"
   ]
  },
  {
   "cell_type": "markdown",
   "metadata": {},
   "source": [
    "<div class=\"label label-success\">4</div> **Linear Regression**\n",
    "\n",
    "**a) Implement `Bayesian linear regression`.**"
   ]
  },
  {
   "cell_type": "code",
   "execution_count": 16,
   "metadata": {
    "collapsed": false
   },
   "outputs": [],
   "source": [
    "# add bias to train dataset\n",
    "X = np.append(img,np.ones((num_images,1)),axis=1)\n",
    "t = lbl\n",
    "\n",
    "# compute w_hat and sigma2_hat (by maximizing likelihood)\n",
    "w_hat = np.dot(np.dot(pinv(np.dot(X.T,X)),X.T),t)\n",
    "sigma2_hat = np.dot((t - np.dot(X,w_hat)).T,(t - np.dot(X,w_hat)))/num_images\n",
    "\n",
    "# add bias to test dataset\n",
    "X_new = np.append(img_test,np.ones((num_test_images,1)),axis=1)"
   ]
  },
  {
   "cell_type": "code",
   "execution_count": 17,
   "metadata": {
    "collapsed": false
   },
   "outputs": [],
   "source": [
    "# mean of the prior\n",
    "O = np.zeros((img_size*img_size+1,1)); \n",
    "# covariance of the prior\n",
    "S = 10 * np.identity(img_size*img_size+1) \n",
    "\n",
    "# covariance of the posterior\n",
    "SIGMA = inv(1/sigma2_hat*np.dot(X.T,X) + inv(S))\n",
    "# mean of the posterior\n",
    "MU = 1/sigma2_hat*np.dot(np.dot(SIGMA,X.T),t)"
   ]
  },
  {
   "cell_type": "markdown",
   "metadata": {},
   "source": [
    "**b) Treat class labels as continuous and apply regression to the training data.**"
   ]
  },
  {
   "cell_type": "code",
   "execution_count": 30,
   "metadata": {
    "collapsed": false
   },
   "outputs": [],
   "source": [
    "# make predictions as continuous variables and plot the prediction versus the true targets \n",
    "def predict_continuous(X_new, t_new, w):\n",
    "    predictions = []\n",
    "    N = len(X_new)\n",
    "    \n",
    "    # plot settings\n",
    "    plt.figure(figsize=(20,5))\n",
    "    plt.xlabel('Image number')\n",
    "    plt.ylabel('True and predicted values')\n",
    "    plt.grid(True)\n",
    "    plt.xlim((0,N))\n",
    "    \n",
    "    for i in range(N):\n",
    "        # predict the value\n",
    "        pred = np.dot(X_new[i,:], w)\n",
    "        predictions.append(pred)\n",
    "        \n",
    "        # plot the prediction versus the true targets \n",
    "        plt.scatter(i, pred, color='fuchsia', alpha=0.7,s=1)\n",
    "        plt.scatter(i, lbl_test[i], color='limegreen', alpha=0.7,s=1)\n",
    "\n",
    "    plt.show()\n",
    "    return predictions\n"
   ]
  },
  {
   "cell_type": "markdown",
   "metadata": {},
   "source": [
    "**c) Produce a scatter plot showing the prediction versus the true targets for the test set and compute the mean squared error on the test set**"
   ]
  },
  {
   "cell_type": "code",
   "execution_count": null,
   "metadata": {
    "collapsed": false
   },
   "outputs": [],
   "source": [
    "# make the predictions with MU as the value of model parameters\n",
    "predictions = predict_continuous(X_new,lbl_test,MU)\n",
    "\n",
    "error = predictions - lbl_test\n",
    "print('mean of error:',np.mean(error),'\\nstd of error:',np.std(error))"
   ]
  },
  {
   "cell_type": "code",
   "execution_count": 28,
   "metadata": {
    "collapsed": false
   },
   "outputs": [
    {
     "name": "stdout",
     "output_type": "stream",
     "text": [
      "MSE on the test set: 3.151\n"
     ]
    }
   ],
   "source": [
    "# compute MSE\n",
    "def compute_mse(predictions, targets):\n",
    "    MSE = ((predictions - targets)**2).sum()/num_test_images\n",
    "    return MSE\n",
    "\n",
    "MSE = compute_mse(predictions, lbl_test)\n",
    "print('MSE on the test set:',round(MSE,4))"
   ]
  },
  {
   "cell_type": "markdown",
   "metadata": {},
   "source": [
    "**d) Suggest a way to discretize predictions and display the confusion matrix on the test data and report accuracy**"
   ]
  },
  {
   "cell_type": "markdown",
   "metadata": {},
   "source": [
    "<div class=\"alert alert-warning\">\n",
    "To discretize predictions we can round obtained values up to integers. It will be more correct mathematically, but if we take only integer part of predictions, we will obtain accuracy slightly bigger (the difference is 4%).\n",
    "</div>"
   ]
  },
  {
   "cell_type": "code",
   "execution_count": 31,
   "metadata": {
    "collapsed": true
   },
   "outputs": [],
   "source": [
    "def predict_discrete(X_new, t_new, w):\n",
    "    N = len(X_new)\n",
    "    count = 0\n",
    "    #predictions = []\n",
    "    predictions = np.array([],int)\n",
    "    for i in range(N):\n",
    "        # discretize predictions by mathematical rounding of prediction\n",
    "        pred = int(round(np.dot(X_new[i,:], w),0))\n",
    "        # discretize predictions by taking integer part of prediction\n",
    "        #pred = int(np.dot(X_new[i,:], w))\n",
    "        #predictions.append(pred)\n",
    "        predictions = np.append(predictions, pred)\n",
    "        # count correct predictions\n",
    "        if pred == t_new[i]:\n",
    "            count += 1\n",
    "    accuracy = count/N\n",
    "    return predictions, accuracy\n"
   ]
  },
  {
   "cell_type": "code",
   "execution_count": 19,
   "metadata": {
    "collapsed": false
   },
   "outputs": [
    {
     "name": "stdout",
     "output_type": "stream",
     "text": [
      "The accuracy = 0.2208\n"
     ]
    }
   ],
   "source": [
    "# get the results with MU as the value of model parameters\n",
    "predictions, accuracy = predict_discrete(X_new,lbl_test, MU)\n",
    "print('The accuracy =',accuracy)"
   ]
  },
  {
   "cell_type": "markdown",
   "metadata": {},
   "source": [
    "<div class=\"alert alert-info\">\n",
    "The accuracy = 0.2208 (0.2599)  \n",
    "</div>"
   ]
  },
  {
   "cell_type": "code",
   "execution_count": 20,
   "metadata": {
    "collapsed": false
   },
   "outputs": [
    {
     "name": "stdout",
     "output_type": "stream",
     "text": [
      "Confusion matrix:\n",
      " [[  0   0   0   0   0   1   0   0   0   0   0   0   0   0   0   0   0]\n",
      " [  0   0   0   1   0   2   0   0   0   0   0   0   0   0   0   0   0]\n",
      " [  0   0   0  50   0   4   0   0   0   0   0   0   0   0   0   0   0]\n",
      " [  0   0   0 173   1  31   7   0   0   2   0   0   0   0   0   0   0]\n",
      " [  0   0   0 328 229 123  43   0   3   4   1   1   1   0   0   0   0]\n",
      " [  0   0   0 257 570 244 196   5  21  24   6  10   4   0   0   0   0]\n",
      " [  0   0   0 103 222 304 325  36 118  73  26  27   9   0   0   0   0]\n",
      " [  0   0   0  36  88 217 273 197 253 158  74 100  25   0   0   0   0]\n",
      " [  0   0   0  22  18  84 100 338 288 265 141 189  58   0   0   0   0]\n",
      " [  0   0   0   8   6  18  42 249 143 270 241 277 142   0   0   0   0]\n",
      " [  0   0   0   2   1   1  12 115  36 117 283 229 312   0   0   0   0]\n",
      " [  0   0   0   0   0   3   9  39  19  43 159 103 319   0   0   0   0]\n",
      " [  0   0   0   0   0   0   3   3   5   2  70  29  96   0   0   0   0]\n",
      " [  0   0   0   0   0   0   0   0   4   0  19   8  36   0   0   0   0]\n",
      " [  0   0   0   0   0   0   0   0   2   0   6   1   5   0   0   0   0]\n",
      " [  0   0   0   0   0   0   0   0   0   0   2   0   1   0   0   0   0]\n",
      " [  0   0   0   0   0   0   0   0   0   0   0   0   1   0   0   0   0]]\n"
     ]
    }
   ],
   "source": [
    "conf_matrix = confusion_matrix(predictions, lbl_test)\n",
    "\n",
    "# display confusion matrix: actual values are presented by rows, predicted by columns\n",
    "print('Confusion matrix:\\n', conf_matrix)"
   ]
  },
  {
   "cell_type": "code",
   "execution_count": 57,
   "metadata": {
    "collapsed": false
   },
   "outputs": [
    {
     "name": "stdout",
     "output_type": "stream",
     "text": [
      "The accuracy = 0.2205\n"
     ]
    }
   ],
   "source": [
    "# sample from the posterior distribution of the parameters of the model and compute expectation of w\n",
    "num_samples = 100000\n",
    "samples = np.random.multivariate_normal(mean=MU,cov=SIGMA,size=num_samples)\n",
    "expected_w = np.mean(samples, axis=0)\n",
    "\n",
    "# make predictions and compute the accuracy with expected value of w\n",
    "predictions, accuracy = predict_discrete(X_new,lbl_test,expected_w)\n",
    "print('The accuracy =',accuracy)"
   ]
  },
  {
   "cell_type": "markdown",
   "metadata": {},
   "source": [
    "<div class=\"alert alert-info\">\n",
    "The accuracy = 0.2205\n",
    "</div>"
   ]
  },
  {
   "cell_type": "markdown",
   "metadata": {},
   "source": [
    "<div class=\"alert alert-warning\">\n",
    "The average of parameters of model tends to mean of this model (MU), if we produce more samples the accuracy will be closer to the accuracy obtained with MU (0.2208).\n",
    "</div>"
   ]
  },
  {
   "cell_type": "markdown",
   "metadata": {},
   "source": [
    "**e) Discuss regression performance with respect to classification performance**"
   ]
  },
  {
   "cell_type": "markdown",
   "metadata": {},
   "source": [
    "<div class=\"alert alert-warning\">\n",
    "The performance of Linear regression is low, because regression is not the best fit for classification problems. For regression the output variable takes continuous values, for classification the output variable takes class labels. Output variable can be a discrete value like in our case, but these class labels don't have any order. We can change the order of our labels and we will obtain a different result.\n",
    "</div>"
   ]
  },
  {
   "cell_type": "markdown",
   "metadata": {},
   "source": [
    "**f) Describe one limitation of using regression for this particular task**"
   ]
  },
  {
   "cell_type": "markdown",
   "metadata": {},
   "source": [
    "<div class=\"alert alert-warning\">\n",
    "Regression and classification are both related to prediction, where regression predicts a value from a continuous set, whereas classification predicts the 'belonging' to the class. We can use regresion for classification task where the output variable is ordinal. For example if we want to predict the price where the price is categorical like: 'very expensive', 'expensive', 'affordable', 'cheap', and 'very cheap'.  \n",
    "For this particular task we shold use `Bayesian Logistic regression`.\n",
    "</div>"
   ]
  },
  {
   "cell_type": "markdown",
   "metadata": {},
   "source": [
    "### CIFAR10\n",
    "-----------"
   ]
  },
  {
   "cell_type": "markdown",
   "metadata": {},
   "source": [
    "<div class=\"label label-success\">1</div> **Download the CIFAR10 dataset and import it**"
   ]
  },
  {
   "cell_type": "code",
   "execution_count": 18,
   "metadata": {
    "collapsed": true
   },
   "outputs": [],
   "source": [
    "path = r'D:\\ASI\\CIFAR10\\cifar-10-batches-py'\n",
    "filename = [path + '\\data_batch_' + str(x) for x in list(range(1, 6))]\n",
    "filename_test = r'D:\\ASI\\CIFAR10\\cifar-10-batches-py\\test_batch'\n",
    "\n",
    "num_classes = 10\n",
    "num_channels = 3\n",
    "img_size = 32\n",
    "num_images_per_file = 10000\n",
    "num_images = 5 * num_images_per_file\n",
    "num_images_test = 10000"
   ]
  },
  {
   "cell_type": "code",
   "execution_count": 5,
   "metadata": {
    "collapsed": true
   },
   "outputs": [],
   "source": [
    "# unpickle data from file\n",
    "def unpickle(file):\n",
    "    with open(file, mode='rb') as f:\n",
    "        data = pickle.load(f, encoding='bytes')\n",
    "    return data\n",
    "\n",
    "# convert and reshape the raw data \n",
    "def convert_images(raw):\n",
    "    # convert the raw images from the data-files to floating-points.\n",
    "    raw_float = np.array(raw, dtype=float) / 255.0\n",
    "    # reshape the array to 4-dimensions\n",
    "    images = raw_float.reshape([-1, num_channels, img_size, img_size])\n",
    "    # reorder the indices of the array\n",
    "    images = images.transpose([0, 2, 3, 1])\n",
    "    return images\n",
    "\n",
    "# load data from file\n",
    "def load_data(filename):\n",
    "    data = unpickle(filename)\n",
    "    raw_img = data[b'data']\n",
    "    lbl = np.array(data[b'labels'])\n",
    "    img = convert_images(raw_img)\n",
    "    return img, lbl\n",
    "\n",
    "# load all train data (from 5 files)\n",
    "def load_training_data(filename):\n",
    "    img,lbl = load_data(filename[0])\n",
    "    for i in range(4):\n",
    "        img_,lbl_ = load_data(filename[i+1])\n",
    "        tmp_img = np.append(img, img_, axis=0)\n",
    "        tmp_lbl = np.append(lbl, lbl_, axis=0)\n",
    "        img = tmp_img\n",
    "        lbl = tmp_lbl\n",
    "    return img, lbl\n",
    "\n",
    "# show given image\n",
    "def show(image):\n",
    "    fig = plt.figure()\n",
    "    ax = fig.add_subplot(1,1,1)\n",
    "    imgplot = ax.imshow(image, cmap=plt.cm.Greys)\n",
    "    imgplot.set_interpolation('nearest')\n",
    "    ax.xaxis.set_ticks_position('top')\n",
    "    ax.yaxis.set_ticks_position('left')\n",
    "    plt.show()\n",
    "    "
   ]
  },
  {
   "cell_type": "code",
   "execution_count": 6,
   "metadata": {
    "collapsed": false
   },
   "outputs": [
    {
     "name": "stdout",
     "output_type": "stream",
     "text": [
      "(50000, 32, 32, 3) (50000,)\n",
      "(10000, 32, 32, 3) (10000,)\n"
     ]
    }
   ],
   "source": [
    "# loading the training data\n",
    "img, lbl = load_training_data(filename)\n",
    "# loading the test data\n",
    "img_test, lbl_test = load_data(filename_test)\n",
    "\n",
    "print(img.shape, lbl.shape)\n",
    "print(img_test.shape, lbl_test.shape)"
   ]
  },
  {
   "cell_type": "code",
   "execution_count": 12,
   "metadata": {
    "collapsed": false
   },
   "outputs": [
    {
     "data": {
      "image/png": "[encoded data removed]",
      "text/plain": [
       "<matplotlib.figure.Figure at 0x2401e800c88>"
      ]
     },
     "metadata": {},
     "output_type": "display_data"
    }
   ],
   "source": [
    "#show random image     \n",
    "x = np.random.random_integers(0, high=num_images)\n",
    "show(img[x,:,:,:])"
   ]
  },
  {
   "cell_type": "markdown",
   "metadata": {},
   "source": [
    "<div class=\"label label-success\">2</div> **Comment on the distribution of class labels and the dimentionality of the input and how these may affect the analyses**"
   ]
  },
  {
   "cell_type": "code",
   "execution_count": 7,
   "metadata": {
    "collapsed": false
   },
   "outputs": [
    {
     "name": "stdout",
     "output_type": "stream",
     "text": [
      "prior: [0.1, 0.1, 0.1, 0.1, 0.1, 0.1, 0.1, 0.1, 0.1, 0.1]\n"
     ]
    },
    {
     "data": {
      "image/png": "[encoded data removed]",
      "text/plain": [
       "<matplotlib.figure.Figure at 0x21080068cc0>"
      ]
     },
     "metadata": {},
     "output_type": "display_data"
    }
   ],
   "source": [
    "# compute the prior\n",
    "prior = compute_prior(lbl)\n",
    "print('prior:',prior)\n",
    "\n",
    "# plot histogram\n",
    "plt.hist(lbl, bins=10, normed=True, color='salmon')\n",
    "plt.title('Histogram CIFAR10 dataset')\n",
    "plt.show()"
   ]
  },
  {
   "cell_type": "markdown",
   "metadata": {},
   "source": [
    "<div class=\"alert alert-warning\">\n",
    "According to the histogram above the distribution of class labels is exactly uniform. The prior distribution will not have any affect to the analysis.   \n",
    "The dimentionality of input is 32 x 32 x 3 = 1024 x 3. Data is 1024x3 dimensional matrix of values from 0 to 1. The dimentionality is high, we can suggest a way to reduce it. \n",
    "</div>"
   ]
  },
  {
   "cell_type": "markdown",
   "metadata": {},
   "source": [
    "<div class=\"label label-success\">3</div> **Classification**  \n",
    "\n",
    "**a) Implement the  `Naive Bayes classifier` **"
   ]
  },
  {
   "cell_type": "code",
   "execution_count": 8,
   "metadata": {
    "collapsed": true
   },
   "outputs": [],
   "source": [
    "# compute the mean and std of each pixel for each channel for each class for given image\n",
    "def compute_mean_and_std_2(images):\n",
    "    # reshape images\n",
    "    img_ = images.reshape((num_images,img_size*img_size,num_channels))\n",
    "    mean = []\n",
    "    std = []\n",
    "    for k in range(num_classes):\n",
    "        # chose images that belongs to class k\n",
    "        indices = np.argwhere(lbl == k)[:,0]\n",
    "        img_class = img_[indices,:]\n",
    "        mean_class = []\n",
    "        std_class = []\n",
    "        # compute mean and std for each channel for given class\n",
    "        for i in range(num_channels):\n",
    "            mean_class.append(np.mean(img_class[:,:,i], axis=0))\n",
    "            std_class.append(np.std(img_class[:,:,i], axis=0))\n",
    "        mean.append(mean_class)\n",
    "        std.append(std_class)\n",
    "    return mean, std\n",
    "\n",
    "\n",
    "# compute Gaussian loglikelihood for given image and class for each channel\n",
    "def compute_log_likelihood_3(image, k):\n",
    "    llh = 0\n",
    "    for x in range(num_channels):  \n",
    "        llh_channel = 0\n",
    "        indices = np.argwhere(std[k][x][:] != 0)[:,0]\n",
    "        std_im = std[k][x][indices]\n",
    "        mean_im = mean[k][x][indices]\n",
    "        image_im = image[indices,x]\n",
    "        llh_channel = (-np.log(std_im)-np.log(np.sqrt(2*math.pi))-((image_im-mean_im)**2/(2*std_im**2))).sum()\n",
    "        llh = llh + llh_channel\n",
    "    return llh\n",
    "\n",
    "\n",
    "# make predictions\n",
    "def predict_3(images, labels):\n",
    "    count = 0\n",
    "    N = len(images)\n",
    "    images_ = images.reshape((N,img_size*img_size,num_channels))\n",
    "    predictions = np.array([], int)\n",
    "    # compute posterior for each image\n",
    "    for i in range(N):\n",
    "        posterior = [compute_log_likelihood_3(images_[i,:,:], k) * prior[k] for k in range(num_classes)]\n",
    "        pred = posterior.index(max(posterior))\n",
    "        predictions = np.append(predictions, pred)\n",
    "        if pred == labels[i]:\n",
    "            count += 1\n",
    "    accuracy = count/N\n",
    "    return predictions, accuracy  "
   ]
  },
  {
   "cell_type": "code",
   "execution_count": 9,
   "metadata": {
    "collapsed": false
   },
   "outputs": [
    {
     "name": "stdout",
     "output_type": "stream",
     "text": [
      "The test takes 0.512267 minutes\n",
      "The accuracy =  0.2976\n"
     ]
    }
   ],
   "source": [
    "mean, std = compute_mean_and_std_2(img)\n",
    "\n",
    "t0 = time()\n",
    "predictions, accuracy = predict_3(img_test,lbl_test)\n",
    "t1 = time()\n",
    "\n",
    "print('The test takes %f minutes' %((t1-t0)/60))\n",
    "print('The accuracy = ',accuracy)"
   ]
  },
  {
   "cell_type": "markdown",
   "metadata": {},
   "source": [
    "<div class=\"alert alert-info\">\n",
    "The accuracy = 0.2976\n",
    "</div>"
   ]
  },
  {
   "cell_type": "markdown",
   "metadata": {},
   "source": [
    "**с) Describe any data pre-processing that you suggest for this data and your classifier**"
   ]
  },
  {
   "cell_type": "markdown",
   "metadata": {},
   "source": [
    "<div class=\"alert alert-warning\">\n",
    "Because the dimensionality is very high we should find a way to reduce it. The simplest one can be averaging the values of these three RGB channels or we can apply PCA.\n",
    "</div>"
   ]
  },
  {
   "cell_type": "markdown",
   "metadata": {},
   "source": [
    "**d) Apply your classifier to the dataset. Make sure your optimization is clearly commented. Use classification accuracy and test log-likelihood as your figures of merit.**  "
   ]
  },
  {
   "cell_type": "code",
   "execution_count": 10,
   "metadata": {
    "collapsed": false
   },
   "outputs": [],
   "source": [
    "img = img.reshape(50000, 32*32*3)\n",
    "img_test = img_test.reshape(10000, 32*32*3)"
   ]
  },
  {
   "cell_type": "code",
   "execution_count": 11,
   "metadata": {
    "collapsed": false
   },
   "outputs": [
    {
     "name": "stdout",
     "output_type": "stream",
     "text": [
      "The start at: 09:40:13\n",
      "Building the model takes 4.677074 minutes\n",
      "Applying the dimensionality reduction takes 1.871455 minutes\n"
     ]
    }
   ],
   "source": [
    "from sklearn.decomposition import PCA\n",
    "\n",
    "print('The start at:', strftime(\"%H:%M:%S\"))\n",
    "t0 = time()\n",
    "\n",
    "pca = PCA(n_components=80)\n",
    "pca.fit(img)\n",
    "\n",
    "t1 = time()\n",
    "\n",
    "img_opt = pca.transform(img)\n",
    "img_test_opt = pca.transform(img_test)\n",
    "\n",
    "t2 = time()\n",
    "print('Building the model takes %f minutes' %((t1-t0)/60)) \n",
    "print('Applying the dimensionality reduction takes %f minutes' %((t2-t1)/60)) "
   ]
  },
  {
   "cell_type": "code",
   "execution_count": 12,
   "metadata": {
    "collapsed": false
   },
   "outputs": [
    {
     "name": "stdout",
     "output_type": "stream",
     "text": [
      "The test takes 0.101828 minutes\n",
      "The accuracy =  0.3442\n"
     ]
    }
   ],
   "source": [
    "# compute mean and std for obtained images\n",
    "mean, std = compute_mean_and_std(img_opt)\n",
    "\n",
    "# make predictions and compute the accuracy\n",
    "t0 = time()\n",
    "predictions, accuracy = predict(img_test_opt,lbl_test)\n",
    "t1 = time()\n",
    "\n",
    "print('The test takes %f minutes' %((t1-t0)/60)) \n",
    "print('The accuracy = ',accuracy)\n"
   ]
  },
  {
   "cell_type": "markdown",
   "metadata": {},
   "source": [
    "<div class=\"alert alert-info\">\n",
    "The accuracy = 0.3442\n",
    "</div>"
   ]
  },
  {
   "cell_type": "markdown",
   "metadata": {},
   "source": [
    "**e) Display the confusion matrix on the test data.**"
   ]
  },
  {
   "cell_type": "code",
   "execution_count": 14,
   "metadata": {
    "collapsed": false,
    "scrolled": true
   },
   "outputs": [
    {
     "name": "stdout",
     "output_type": "stream",
     "text": [
      "Confusion matrix:\n",
      "\n",
      "     0    1    2    3    4    5    6    7    8    9\n",
      "0  240   49   44   36   29   23   13   41   75   61\n",
      "1   79  428   40   59   21   52   38   55  104  160\n",
      "2   36   20  100   67   69   81   39   41   20   11\n",
      "3   43   43   75  217   42  130   56   63   30   51\n",
      "4  243   51  423  183  597  193  332  181  175   49\n",
      "5   26   28   75  130   39  260   55   74   30   18\n",
      "6   31   34   89  104   84   72  368   48   33   36\n",
      "7   43   37   53   63   68   74   29  339   22   36\n",
      "8  167  123   38   25   28   26   14   31  431  116\n",
      "9   92  187   63  116   23   89   56  127   80  462\n"
     ]
    }
   ],
   "source": [
    "from sklearn.metrics import confusion_matrix\n",
    "conf_matrix = confusion_matrix(predictions, lbl_test)\n",
    "\n",
    "# display confusion matrix: actual values are presented by rows, predicted by columns\n",
    "print('Confusion matrix:\\n')\n",
    "print(pd.DataFrame(conf_matrix))\n"
   ]
  },
  {
   "cell_type": "markdown",
   "metadata": {},
   "source": [
    "**f) Discuss the performance, compare them against a classifier that outputs random class labels and suggest in which performance could be improved.**"
   ]
  },
  {
   "cell_type": "markdown",
   "metadata": {},
   "source": [
    "<div class=\"alert alert-warning\">\n",
    "The classifier that outputs random class labels will provide the accuracy about 0.10, and we obtained about 0.34. It's better but still very low. To get better result we should take into account the сorrelation between pixels by assuming multivariate normal distribution and applying the `Bayes classifier`.   \n",
    "Moreover we can use `Convolutional Neural Networks` to perform this classification task.\n",
    "</div>"
   ]
  },
  {
   "cell_type": "markdown",
   "metadata": {},
   "source": [
    "<div class=\"label label-success\">4</div> **Linear Regression**\n",
    "\n",
    "**a) Implement `Bayesian linear regression`**"
   ]
  },
  {
   "cell_type": "code",
   "execution_count": 39,
   "metadata": {
    "collapsed": true
   },
   "outputs": [],
   "source": [
    "# add bias to train dataset\n",
    "X = np.append(img,np.ones((num_images,1)),axis=1)\n",
    "t = lbl\n",
    "\n",
    "# compute w_hat and sigma2_hat (by maximizing likelihood)\n",
    "w_hat = np.dot(np.dot(pinv(np.dot(X.T,X)),X.T),t)\n",
    "sigma2_hat = np.dot((t - np.dot(X,w_hat)).T,(t - np.dot(X,w_hat)))/num_images\n",
    "\n",
    "# add bias to test dataset\n",
    "X_new = np.append(img_test,np.ones((num_images_test,1)),axis=1)"
   ]
  },
  {
   "cell_type": "code",
   "execution_count": 40,
   "metadata": {
    "collapsed": true
   },
   "outputs": [],
   "source": [
    "# mean of the prior\n",
    "O = np.zeros((32*32*3+1,1)); \n",
    "# covariance of the prior\n",
    "S = 10 * np.identity(32*32*3+1) \n",
    "\n",
    "# compute the covariance of the posterior\n",
    "SIGMA = inv(1/sigma2_hat*np.dot(X.T,X) + inv(S))\n",
    "# compute the mean of the posterior\n",
    "MU = 1/sigma2_hat*np.dot(np.dot(SIGMA,X.T),t)"
   ]
  },
  {
   "cell_type": "markdown",
   "metadata": {},
   "source": [
    "**b) Treat class labels as continuous and apply regression to the training data**"
   ]
  },
  {
   "cell_type": "markdown",
   "metadata": {},
   "source": [
    "**c) Produce a scatter plot showing the prediction versus the true targets for the test set and compute the mean squared error on the test set**"
   ]
  },
  {
   "cell_type": "code",
   "execution_count": null,
   "metadata": {
    "collapsed": false
   },
   "outputs": [],
   "source": [
    "# get the results with MU as parameters of the model and predictions as continuous values \n",
    "predictions = predict_continuous(X_new,lbl_test,MU)\n",
    "\n",
    "# compute error for all points\n",
    "error = predictions - lbl_test\n",
    "print('mean of error:',np.mean(error),'\\nstd of error:',np.std(error))"
   ]
  },
  {
   "cell_type": "code",
   "execution_count": 42,
   "metadata": {
    "collapsed": false
   },
   "outputs": [
    {
     "name": "stdout",
     "output_type": "stream",
     "text": [
      "MSE on the test set: 7.8779\n"
     ]
    }
   ],
   "source": [
    "# the mean squared error on the test set\n",
    "MSE = compute_mse(predictions, lbl_test)\n",
    "print('MSE on the test set:',round(MSE,4))"
   ]
  },
  {
   "cell_type": "markdown",
   "metadata": {},
   "source": [
    "**d) Suggest a way to discretize predictions and display the confusion matrix on the test data and report accuracy**"
   ]
  },
  {
   "cell_type": "code",
   "execution_count": 43,
   "metadata": {
    "collapsed": false
   },
   "outputs": [
    {
     "name": "stdout",
     "output_type": "stream",
     "text": [
      "\n",
      "The accuracy = 0.1131\n"
     ]
    }
   ],
   "source": [
    "# get the results with the best value for the modl = MU and predictions as discrete values\n",
    "predictions, accuracy = predict_discrete(X_new, lbl_test, MU)\n",
    "print('\\nThe accuracy =',accuracy)"
   ]
  },
  {
   "cell_type": "markdown",
   "metadata": {},
   "source": [
    "<div class=\"alert alert-info\">\n",
    "The accuracy = 0.1131\n",
    "</div>"
   ]
  },
  {
   "cell_type": "markdown",
   "metadata": {},
   "source": [
    "<div class=\"alert alert-warning\">\n",
    "The obtained accuracy is equivalent to the accuracy that we will get with classifier that outputs random class variables.\n",
    "</div>"
   ]
  },
  {
   "cell_type": "code",
   "execution_count": 44,
   "metadata": {
    "collapsed": false
   },
   "outputs": [
    {
     "name": "stdout",
     "output_type": "stream",
     "text": [
      "Confusion matrix:\n",
      "\n",
      "    0    1    2    3    4    5    6    7    8    9    10  11\n",
      "0    0    0    0    0    1    0    0    0    0    0    1   0\n",
      "1    0    0    0    0    1    0    1    0    0    0    0   0\n",
      "2    0    5   10    2    5    2    2    0    2    1    2   0\n",
      "3    0   31   40   24   37   18   33   11   10    9    7   0\n",
      "4    0  236  155  157  162  143  167  107   93   60   71   0\n",
      "5    0  411  353  430  394  411  383  328  299  321  195   0\n",
      "6    0  226  275  304  298  331  311  392  322  408  348   0\n",
      "7    0   75  119   66   89   78   89  134  187  158  260   0\n",
      "8    0   12   35   12   10   16   13   22   67   36   88   0\n",
      "9    0    2   10    4    3    1    1    6   15    7   20   0\n",
      "10   0    2    3    1    0    0    0    0    5    0    5   0\n",
      "11   0    0    0    0    0    0    0    0    0    0    3   0\n"
     ]
    }
   ],
   "source": [
    "# display confusion matrix: actual values are presented by rows, predicted by columns\n",
    "conf_matrix = confusion_matrix(predictions, lbl_test)\n",
    "\n",
    "print('Confusion matrix:\\n')\n",
    "print(pd.DataFrame(conf_matrix))"
   ]
  },
  {
   "cell_type": "markdown",
   "metadata": {},
   "source": [
    "**e) Discuss regression performance with respect to classification performance**\n"
   ]
  },
  {
   "cell_type": "markdown",
   "metadata": {},
   "source": [
    "<div class=\"alert alert-warning\">\n",
    "Given above for the MNIST dataset.\n",
    "</div>"
   ]
  },
  {
   "cell_type": "markdown",
   "metadata": {},
   "source": [
    "**f) Describe one limitation of using regression for this particular task**"
   ]
  },
  {
   "cell_type": "markdown",
   "metadata": {},
   "source": [
    "<div class=\"alert alert-warning\">\n",
    "Given above for the MNIST dataset.\n",
    "</div>"
   ]
  }
 ],
 "metadata": {
  "anaconda-cloud": {},
  "kernelspec": {
   "display_name": "Python [default]",
   "language": "python",
   "name": "python3"
  },
  "language_info": {
   "codemirror_mode": {
    "name": "ipython",
    "version": 3
   },
   "file_extension": ".py",
   "mimetype": "text/x-python",
   "name": "python",
   "nbconvert_exporter": "python",
   "pygments_lexer": "ipython3",
   "version": "3.5.2"
  }
 },
 "nbformat": 4,
 "nbformat_minor": 0
}
